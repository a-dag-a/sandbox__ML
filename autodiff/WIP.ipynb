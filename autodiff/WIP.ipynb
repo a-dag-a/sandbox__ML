{
 "cells": [
  {
   "cell_type": "code",
   "execution_count": 150,
   "metadata": {},
   "outputs": [],
   "source": [
    "import numpy as np\n",
    "import matplotlib.pyplot as plt\n",
    "import torch\n",
    "plt.style.use('dark_background')"
   ]
  },
  {
   "cell_type": "code",
   "execution_count": 161,
   "metadata": {},
   "outputs": [],
   "source": [
    "L_opt = 300*(1e-12)\n",
    "w = 2*np.pi*(20e9)\n",
    "Z_L = 20+1j*(w*L_opt) # (target) load impedance\n",
    "Z_S = 20 # fixed source impedance\n",
    "\n",
    "def computeGamma(Z,Z0=50): z = Z/Z0; return ((z-1)/(z+1))\n",
    "def transformedImpedance(match__Lout_pH):#,match__Cout):\n",
    "#     # Series inductor, Shunt capacitor (Source --> Load)\n",
    "#     # A = 1+ind_x*cap_b; B = ind_x; C = cap_b; D = 1\n",
    "#     # Z_S_transformed = (D*Z_S + B)/(C*Z_S+A)\n",
    "    \n",
    "    match__Cout_fF = 0\n",
    "    cap_b = 1j*w*match__Cout_fF*(1e-15)\n",
    "    ind_x = 1j*w*match__Lout_pH*(1e-12)\n",
    "    A = 1 + ind_x*cap_b; B = ind_x; C = cap_b; D=1\n",
    "    Z_S_transformed = (D*Z_S+B)/(C*Z_S+A)\n",
    "    # Z_S_transformed = Z_S + 1j*w*match__Lout_pH*(1e-12)\n",
    "    return Z_S_transformed\n",
    "\n",
    "def computeError(match__Lout_pH):#,match__Cout):\n",
    "    # These work\n",
    "    # impedance_error = torch.abs(match__Lout_pH - 300)**2\n",
    "    # impedance_error = torch.abs(w*match__Lout_pH - w*300)**2\n",
    "    \n",
    "    # Z_S_transformed = Z_S + 1j*w*match__Lout_pH\n",
    "    Z_S_transformed = transformedImpedance(match__Lout_pH)\n",
    "    impedance_error = torch.abs(Z_S_transformed - Z_L)**2\n",
    "\n",
    "    return impedance_error"
   ]
  },
  {
   "cell_type": "code",
   "execution_count": 162,
   "metadata": {},
   "outputs": [
    {
     "name": "stdout",
     "output_type": "stream",
     "text": [
      ":Iteration 0:  Lout = 20.89999771118164, error = 1319.8236083984375\n",
      ":Iteration 100:  Lout = 298.51043701171875, error = 0.043113451451063156\n",
      ":Iteration 200:  Lout = 299.997314453125, error = 4.401954356580973e-08\n",
      ":Iteration 300:  Lout = 300.0000915527344, error = 5.820766091346741e-11\n",
      ":Iteration 400:  Lout = 300.0000915527344, error = 5.820766091346741e-11\n"
     ]
    }
   ],
   "source": [
    "match__Lout = torch.tensor(10.9, requires_grad=True)\n",
    "\n",
    "optimizer = torch.optim.Adam([match__Lout], lr=10) # Adaptive algorithm, better\n",
    "for i in range(500):\n",
    "    optimizer.zero_grad()\n",
    "    f = computeError(match__Lout)\n",
    "    f.backward()\n",
    "    optimizer.step()\n",
    "    if i % 100 == 0:\n",
    "        print(f\":Iteration {i}:  Lout = {match__Lout.item()}, error = {f.item()}\")"
   ]
  },
  {
   "cell_type": "code",
   "execution_count": null,
   "metadata": {},
   "outputs": [],
   "source": []
  }
 ],
 "metadata": {
  "kernelspec": {
   "display_name": "torch",
   "language": "python",
   "name": "python3"
  },
  "language_info": {
   "codemirror_mode": {
    "name": "ipython",
    "version": 3
   },
   "file_extension": ".py",
   "mimetype": "text/x-python",
   "name": "python",
   "nbconvert_exporter": "python",
   "pygments_lexer": "ipython3",
   "version": "3.8.19"
  }
 },
 "nbformat": 4,
 "nbformat_minor": 2
}
