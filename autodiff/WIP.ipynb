{
 "cells": [
  {
   "cell_type": "code",
   "execution_count": 150,
   "metadata": {},
   "outputs": [],
   "source": [
    "import numpy as np\n",
    "import matplotlib.pyplot as plt\n",
    "import torch\n",
    "plt.style.use('dark_background')"
   ]
  },
  {
   "cell_type": "code",
   "execution_count": null,
   "metadata": {},
   "outputs": [],
   "source": [
    "L_opt = 300*(1e-12)\n",
    "w = 2*np.pi*(20e9)\n",
    "Z_L = 20+1j*(w*L_opt) # (target) load impedance\n",
    "Z_S = 20 # fixed source impedance\n",
    "\n",
    "def computeGamma(Z,Z0=50): z = Z/Z0; return ((z-1)/(z+1))\n",
    "def transformedImpedance(match__Lout_pH, match__Cout_fF=0, freq=20e9):#,match__Cout):\n",
    "    w = 2*np.pi*freq\n",
    "    # Series inductor, Shunt capacitor (Source --> Load)  \n",
    "    cap_b = 1j*w*torch.abs(match__Cout_fF)*(1e-15)\n",
    "    ind_x = 1j*w*torch.abs(match__Lout_pH)*(1e-12)\n",
    "    A = 1 + ind_x*cap_b; B = ind_x; C = cap_b; D=1\n",
    "    Z_S_transformed = (D*Z_S+B)/(C*Z_S+A)\n",
    "    # Z_S_transformed = Z_S + 1j*w*match__Lout_pH*(1e-12)\n",
    "    return Z_S_transformed\n",
    "\n",
    "def computeError(match__Lout_pH,match__Cout_fF):#,match__Cout):\n",
    "    # These work\n",
    "    # impedance_error = torch.abs(match__Lout_pH - 300)**2\n",
    "    # impedance_error = torch.abs(w*match__Lout_pH - w*300)**2\n",
    "    \n",
    "    # Z_S_transformed = Z_S + 1j*w*match__Lout_pH\n",
    "    Z_S_transformed = transformedImpedance(match__Lout_pH,match__Cout_fF)\n",
    "    impedance_error = torch.abs(Z_S_transformed - Z_L)**2\n",
    "\n",
    "    return impedance_error"
   ]
  },
  {
   "cell_type": "code",
   "execution_count": 183,
   "metadata": {},
   "outputs": [
    {
     "name": "stdout",
     "output_type": "stream",
     "text": [
      ":Iteration 0:  Lout = 20.89999771118164, Cout = 0.9000015258789062, error = 1359.944580078125\n",
      ":Iteration 100:  Lout = 297.9532165527344, Cout = -0.3923933804035187, error = 0.05748753622174263\n",
      ":Iteration 200:  Lout = 300.00152587890625, Cout = 0.0034282454289495945, error = 1.1692936823237687e-06\n",
      ":Iteration 300:  Lout = 299.9999694824219, Cout = -3.6860954423900694e-05, error = 3.2741809263825417e-11\n",
      ":Iteration 400:  Lout = 299.9999694824219, Cout = -1.4601042494177818e-05, error = 1.8189894035458565e-11\n"
     ]
    }
   ],
   "source": [
    "match__Lout = torch.tensor(10.9, requires_grad=True)\n",
    "match__Cout_fF = torch.tensor(10.9, requires_grad=True)\n",
    "\n",
    "optimizer = torch.optim.Adam([match__Lout,match__Cout_fF], lr=10) # Adaptive algorithm, better\n",
    "for i in range(500):\n",
    "    optimizer.zero_grad()\n",
    "    f = computeError(match__Lout,match__Cout_fF)\n",
    "    f.backward()\n",
    "    optimizer.step()\n",
    "    if i % 100 == 0:\n",
    "        # print(f\":Iteration {i}:  Lout = {match__Lout.item()}, error = {f.item()}\")\n",
    "        print(f\":Iteration {i}:  Lout = {match__Lout.item()}, Cout = {match__Cout_fF}, error = {f.item()}\")"
   ]
  },
  {
   "cell_type": "code",
   "execution_count": null,
   "metadata": {},
   "outputs": [],
   "source": []
  }
 ],
 "metadata": {
  "kernelspec": {
   "display_name": "torch",
   "language": "python",
   "name": "python3"
  },
  "language_info": {
   "codemirror_mode": {
    "name": "ipython",
    "version": 3
   },
   "file_extension": ".py",
   "mimetype": "text/x-python",
   "name": "python",
   "nbconvert_exporter": "python",
   "pygments_lexer": "ipython3",
   "version": "3.8.19"
  }
 },
 "nbformat": 4,
 "nbformat_minor": 2
}
